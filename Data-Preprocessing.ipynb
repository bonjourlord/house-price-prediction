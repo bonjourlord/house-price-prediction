{
 "cells": [
  {
   "cell_type": "markdown",
   "id": "a4ad4be0-97a7-4c4d-a83b-aa9606dd6848",
   "metadata": {},
   "source": [
    "## Import Libraries¶"
   ]
  },
  {
   "cell_type": "code",
   "execution_count": 1,
   "id": "fa6598c3-dd6a-429c-b317-08b9504311b3",
   "metadata": {},
   "outputs": [],
   "source": [
    "## for loading and preprocessing \n",
    "import pandas as pd\n",
    "import numpy as np"
   ]
  },
  {
   "cell_type": "code",
   "execution_count": 2,
   "id": "51f5f78f-20b3-4133-9d60-0808b81ca7c9",
   "metadata": {},
   "outputs": [],
   "source": [
    "## read dataset\n",
    "data = pd.read_csv(\"datasets/Housing.csv\")"
   ]
  },
  {
   "cell_type": "code",
   "execution_count": 3,
   "id": "798de4c0-31f7-4a5a-83ca-e8b698eb4f1f",
   "metadata": {},
   "outputs": [],
   "source": [
    "## create a deep copy \n",
    "df = data.copy()"
   ]
  },
  {
   "cell_type": "markdown",
   "id": "2fbd62f1-4697-43dc-850e-e47e29284e74",
   "metadata": {},
   "source": [
    "## Data Preview And Understanding\n",
    "\n",
    "- Loading the dataset"
   ]
  },
  {
   "cell_type": "code",
   "execution_count": 4,
   "id": "ec7f9151-26c6-451b-810b-cba97948674f",
   "metadata": {},
   "outputs": [
    {
     "data": {
      "text/html": [
       "<div>\n",
       "<style scoped>\n",
       "    .dataframe tbody tr th:only-of-type {\n",
       "        vertical-align: middle;\n",
       "    }\n",
       "\n",
       "    .dataframe tbody tr th {\n",
       "        vertical-align: top;\n",
       "    }\n",
       "\n",
       "    .dataframe thead th {\n",
       "        text-align: right;\n",
       "    }\n",
       "</style>\n",
       "<table border=\"1\" class=\"dataframe\">\n",
       "  <thead>\n",
       "    <tr style=\"text-align: right;\">\n",
       "      <th></th>\n",
       "      <th>price</th>\n",
       "      <th>area</th>\n",
       "      <th>bedrooms</th>\n",
       "      <th>bathrooms</th>\n",
       "      <th>stories</th>\n",
       "      <th>mainroad</th>\n",
       "      <th>guestroom</th>\n",
       "      <th>basement</th>\n",
       "      <th>hotwaterheating</th>\n",
       "      <th>airconditioning</th>\n",
       "      <th>parking</th>\n",
       "      <th>prefarea</th>\n",
       "      <th>furnishingstatus</th>\n",
       "    </tr>\n",
       "  </thead>\n",
       "  <tbody>\n",
       "    <tr>\n",
       "      <th>0</th>\n",
       "      <td>13300000</td>\n",
       "      <td>7420</td>\n",
       "      <td>4</td>\n",
       "      <td>2</td>\n",
       "      <td>3</td>\n",
       "      <td>yes</td>\n",
       "      <td>no</td>\n",
       "      <td>no</td>\n",
       "      <td>no</td>\n",
       "      <td>yes</td>\n",
       "      <td>2</td>\n",
       "      <td>yes</td>\n",
       "      <td>furnished</td>\n",
       "    </tr>\n",
       "    <tr>\n",
       "      <th>1</th>\n",
       "      <td>12250000</td>\n",
       "      <td>8960</td>\n",
       "      <td>4</td>\n",
       "      <td>4</td>\n",
       "      <td>4</td>\n",
       "      <td>yes</td>\n",
       "      <td>no</td>\n",
       "      <td>no</td>\n",
       "      <td>no</td>\n",
       "      <td>yes</td>\n",
       "      <td>3</td>\n",
       "      <td>no</td>\n",
       "      <td>furnished</td>\n",
       "    </tr>\n",
       "    <tr>\n",
       "      <th>2</th>\n",
       "      <td>12250000</td>\n",
       "      <td>9960</td>\n",
       "      <td>3</td>\n",
       "      <td>2</td>\n",
       "      <td>2</td>\n",
       "      <td>yes</td>\n",
       "      <td>no</td>\n",
       "      <td>yes</td>\n",
       "      <td>no</td>\n",
       "      <td>no</td>\n",
       "      <td>2</td>\n",
       "      <td>yes</td>\n",
       "      <td>semi-furnished</td>\n",
       "    </tr>\n",
       "    <tr>\n",
       "      <th>3</th>\n",
       "      <td>12215000</td>\n",
       "      <td>7500</td>\n",
       "      <td>4</td>\n",
       "      <td>2</td>\n",
       "      <td>2</td>\n",
       "      <td>yes</td>\n",
       "      <td>no</td>\n",
       "      <td>yes</td>\n",
       "      <td>no</td>\n",
       "      <td>yes</td>\n",
       "      <td>3</td>\n",
       "      <td>yes</td>\n",
       "      <td>furnished</td>\n",
       "    </tr>\n",
       "    <tr>\n",
       "      <th>4</th>\n",
       "      <td>11410000</td>\n",
       "      <td>7420</td>\n",
       "      <td>4</td>\n",
       "      <td>1</td>\n",
       "      <td>2</td>\n",
       "      <td>yes</td>\n",
       "      <td>yes</td>\n",
       "      <td>yes</td>\n",
       "      <td>no</td>\n",
       "      <td>yes</td>\n",
       "      <td>2</td>\n",
       "      <td>no</td>\n",
       "      <td>furnished</td>\n",
       "    </tr>\n",
       "  </tbody>\n",
       "</table>\n",
       "</div>"
      ],
      "text/plain": [
       "      price  area  bedrooms  bathrooms  stories mainroad guestroom basement  \\\n",
       "0  13300000  7420         4          2        3      yes        no       no   \n",
       "1  12250000  8960         4          4        4      yes        no       no   \n",
       "2  12250000  9960         3          2        2      yes        no      yes   \n",
       "3  12215000  7500         4          2        2      yes        no      yes   \n",
       "4  11410000  7420         4          1        2      yes       yes      yes   \n",
       "\n",
       "  hotwaterheating airconditioning  parking prefarea furnishingstatus  \n",
       "0              no             yes        2      yes        furnished  \n",
       "1              no             yes        3       no        furnished  \n",
       "2              no              no        2      yes   semi-furnished  \n",
       "3              no             yes        3      yes        furnished  \n",
       "4              no             yes        2       no        furnished  "
      ]
     },
     "execution_count": 4,
     "metadata": {},
     "output_type": "execute_result"
    }
   ],
   "source": [
    "## view the first rows \n",
    "df.head()"
   ]
  },
  {
   "cell_type": "code",
   "execution_count": 5,
   "id": "9d0cc624-a2e5-49ac-b4cb-254e848fae7e",
   "metadata": {},
   "outputs": [
    {
     "data": {
      "text/html": [
       "<div>\n",
       "<style scoped>\n",
       "    .dataframe tbody tr th:only-of-type {\n",
       "        vertical-align: middle;\n",
       "    }\n",
       "\n",
       "    .dataframe tbody tr th {\n",
       "        vertical-align: top;\n",
       "    }\n",
       "\n",
       "    .dataframe thead th {\n",
       "        text-align: right;\n",
       "    }\n",
       "</style>\n",
       "<table border=\"1\" class=\"dataframe\">\n",
       "  <thead>\n",
       "    <tr style=\"text-align: right;\">\n",
       "      <th></th>\n",
       "      <th>price</th>\n",
       "      <th>area</th>\n",
       "      <th>bedrooms</th>\n",
       "      <th>bathrooms</th>\n",
       "      <th>stories</th>\n",
       "      <th>mainroad</th>\n",
       "      <th>guestroom</th>\n",
       "      <th>basement</th>\n",
       "      <th>hotwaterheating</th>\n",
       "      <th>airconditioning</th>\n",
       "      <th>parking</th>\n",
       "      <th>prefarea</th>\n",
       "      <th>furnishingstatus</th>\n",
       "    </tr>\n",
       "  </thead>\n",
       "  <tbody>\n",
       "    <tr>\n",
       "      <th>540</th>\n",
       "      <td>1820000</td>\n",
       "      <td>3000</td>\n",
       "      <td>2</td>\n",
       "      <td>1</td>\n",
       "      <td>1</td>\n",
       "      <td>yes</td>\n",
       "      <td>no</td>\n",
       "      <td>yes</td>\n",
       "      <td>no</td>\n",
       "      <td>no</td>\n",
       "      <td>2</td>\n",
       "      <td>no</td>\n",
       "      <td>unfurnished</td>\n",
       "    </tr>\n",
       "    <tr>\n",
       "      <th>541</th>\n",
       "      <td>1767150</td>\n",
       "      <td>2400</td>\n",
       "      <td>3</td>\n",
       "      <td>1</td>\n",
       "      <td>1</td>\n",
       "      <td>no</td>\n",
       "      <td>no</td>\n",
       "      <td>no</td>\n",
       "      <td>no</td>\n",
       "      <td>no</td>\n",
       "      <td>0</td>\n",
       "      <td>no</td>\n",
       "      <td>semi-furnished</td>\n",
       "    </tr>\n",
       "    <tr>\n",
       "      <th>542</th>\n",
       "      <td>1750000</td>\n",
       "      <td>3620</td>\n",
       "      <td>2</td>\n",
       "      <td>1</td>\n",
       "      <td>1</td>\n",
       "      <td>yes</td>\n",
       "      <td>no</td>\n",
       "      <td>no</td>\n",
       "      <td>no</td>\n",
       "      <td>no</td>\n",
       "      <td>0</td>\n",
       "      <td>no</td>\n",
       "      <td>unfurnished</td>\n",
       "    </tr>\n",
       "    <tr>\n",
       "      <th>543</th>\n",
       "      <td>1750000</td>\n",
       "      <td>2910</td>\n",
       "      <td>3</td>\n",
       "      <td>1</td>\n",
       "      <td>1</td>\n",
       "      <td>no</td>\n",
       "      <td>no</td>\n",
       "      <td>no</td>\n",
       "      <td>no</td>\n",
       "      <td>no</td>\n",
       "      <td>0</td>\n",
       "      <td>no</td>\n",
       "      <td>furnished</td>\n",
       "    </tr>\n",
       "    <tr>\n",
       "      <th>544</th>\n",
       "      <td>1750000</td>\n",
       "      <td>3850</td>\n",
       "      <td>3</td>\n",
       "      <td>1</td>\n",
       "      <td>2</td>\n",
       "      <td>yes</td>\n",
       "      <td>no</td>\n",
       "      <td>no</td>\n",
       "      <td>no</td>\n",
       "      <td>no</td>\n",
       "      <td>0</td>\n",
       "      <td>no</td>\n",
       "      <td>unfurnished</td>\n",
       "    </tr>\n",
       "  </tbody>\n",
       "</table>\n",
       "</div>"
      ],
      "text/plain": [
       "       price  area  bedrooms  bathrooms  stories mainroad guestroom basement  \\\n",
       "540  1820000  3000         2          1        1      yes        no      yes   \n",
       "541  1767150  2400         3          1        1       no        no       no   \n",
       "542  1750000  3620         2          1        1      yes        no       no   \n",
       "543  1750000  2910         3          1        1       no        no       no   \n",
       "544  1750000  3850         3          1        2      yes        no       no   \n",
       "\n",
       "    hotwaterheating airconditioning  parking prefarea furnishingstatus  \n",
       "540              no              no        2       no      unfurnished  \n",
       "541              no              no        0       no   semi-furnished  \n",
       "542              no              no        0       no      unfurnished  \n",
       "543              no              no        0       no        furnished  \n",
       "544              no              no        0       no      unfurnished  "
      ]
     },
     "execution_count": 5,
     "metadata": {},
     "output_type": "execute_result"
    }
   ],
   "source": [
    "## view the last five rows \n",
    "df.tail()"
   ]
  },
  {
   "cell_type": "code",
   "execution_count": 6,
   "id": "c6d8bd8f-e6c5-465b-9278-dab8ed71bbed",
   "metadata": {},
   "outputs": [
    {
     "data": {
      "text/html": [
       "<div>\n",
       "<style scoped>\n",
       "    .dataframe tbody tr th:only-of-type {\n",
       "        vertical-align: middle;\n",
       "    }\n",
       "\n",
       "    .dataframe tbody tr th {\n",
       "        vertical-align: top;\n",
       "    }\n",
       "\n",
       "    .dataframe thead th {\n",
       "        text-align: right;\n",
       "    }\n",
       "</style>\n",
       "<table border=\"1\" class=\"dataframe\">\n",
       "  <thead>\n",
       "    <tr style=\"text-align: right;\">\n",
       "      <th></th>\n",
       "      <th>price</th>\n",
       "      <th>area</th>\n",
       "      <th>bedrooms</th>\n",
       "      <th>bathrooms</th>\n",
       "      <th>stories</th>\n",
       "      <th>mainroad</th>\n",
       "      <th>guestroom</th>\n",
       "      <th>basement</th>\n",
       "      <th>hotwaterheating</th>\n",
       "      <th>airconditioning</th>\n",
       "      <th>parking</th>\n",
       "      <th>prefarea</th>\n",
       "      <th>furnishingstatus</th>\n",
       "    </tr>\n",
       "  </thead>\n",
       "  <tbody>\n",
       "    <tr>\n",
       "      <th>0</th>\n",
       "      <td>13300000</td>\n",
       "      <td>7420</td>\n",
       "      <td>4</td>\n",
       "      <td>2</td>\n",
       "      <td>3</td>\n",
       "      <td>yes</td>\n",
       "      <td>no</td>\n",
       "      <td>no</td>\n",
       "      <td>no</td>\n",
       "      <td>yes</td>\n",
       "      <td>2</td>\n",
       "      <td>yes</td>\n",
       "      <td>furnished</td>\n",
       "    </tr>\n",
       "    <tr>\n",
       "      <th>1</th>\n",
       "      <td>12250000</td>\n",
       "      <td>8960</td>\n",
       "      <td>4</td>\n",
       "      <td>4</td>\n",
       "      <td>4</td>\n",
       "      <td>yes</td>\n",
       "      <td>no</td>\n",
       "      <td>no</td>\n",
       "      <td>no</td>\n",
       "      <td>yes</td>\n",
       "      <td>3</td>\n",
       "      <td>no</td>\n",
       "      <td>furnished</td>\n",
       "    </tr>\n",
       "    <tr>\n",
       "      <th>2</th>\n",
       "      <td>12250000</td>\n",
       "      <td>9960</td>\n",
       "      <td>3</td>\n",
       "      <td>2</td>\n",
       "      <td>2</td>\n",
       "      <td>yes</td>\n",
       "      <td>no</td>\n",
       "      <td>yes</td>\n",
       "      <td>no</td>\n",
       "      <td>no</td>\n",
       "      <td>2</td>\n",
       "      <td>yes</td>\n",
       "      <td>semi-furnished</td>\n",
       "    </tr>\n",
       "    <tr>\n",
       "      <th>3</th>\n",
       "      <td>12215000</td>\n",
       "      <td>7500</td>\n",
       "      <td>4</td>\n",
       "      <td>2</td>\n",
       "      <td>2</td>\n",
       "      <td>yes</td>\n",
       "      <td>no</td>\n",
       "      <td>yes</td>\n",
       "      <td>no</td>\n",
       "      <td>yes</td>\n",
       "      <td>3</td>\n",
       "      <td>yes</td>\n",
       "      <td>furnished</td>\n",
       "    </tr>\n",
       "    <tr>\n",
       "      <th>4</th>\n",
       "      <td>11410000</td>\n",
       "      <td>7420</td>\n",
       "      <td>4</td>\n",
       "      <td>1</td>\n",
       "      <td>2</td>\n",
       "      <td>yes</td>\n",
       "      <td>yes</td>\n",
       "      <td>yes</td>\n",
       "      <td>no</td>\n",
       "      <td>yes</td>\n",
       "      <td>2</td>\n",
       "      <td>no</td>\n",
       "      <td>furnished</td>\n",
       "    </tr>\n",
       "    <tr>\n",
       "      <th>...</th>\n",
       "      <td>...</td>\n",
       "      <td>...</td>\n",
       "      <td>...</td>\n",
       "      <td>...</td>\n",
       "      <td>...</td>\n",
       "      <td>...</td>\n",
       "      <td>...</td>\n",
       "      <td>...</td>\n",
       "      <td>...</td>\n",
       "      <td>...</td>\n",
       "      <td>...</td>\n",
       "      <td>...</td>\n",
       "      <td>...</td>\n",
       "    </tr>\n",
       "    <tr>\n",
       "      <th>540</th>\n",
       "      <td>1820000</td>\n",
       "      <td>3000</td>\n",
       "      <td>2</td>\n",
       "      <td>1</td>\n",
       "      <td>1</td>\n",
       "      <td>yes</td>\n",
       "      <td>no</td>\n",
       "      <td>yes</td>\n",
       "      <td>no</td>\n",
       "      <td>no</td>\n",
       "      <td>2</td>\n",
       "      <td>no</td>\n",
       "      <td>unfurnished</td>\n",
       "    </tr>\n",
       "    <tr>\n",
       "      <th>541</th>\n",
       "      <td>1767150</td>\n",
       "      <td>2400</td>\n",
       "      <td>3</td>\n",
       "      <td>1</td>\n",
       "      <td>1</td>\n",
       "      <td>no</td>\n",
       "      <td>no</td>\n",
       "      <td>no</td>\n",
       "      <td>no</td>\n",
       "      <td>no</td>\n",
       "      <td>0</td>\n",
       "      <td>no</td>\n",
       "      <td>semi-furnished</td>\n",
       "    </tr>\n",
       "    <tr>\n",
       "      <th>542</th>\n",
       "      <td>1750000</td>\n",
       "      <td>3620</td>\n",
       "      <td>2</td>\n",
       "      <td>1</td>\n",
       "      <td>1</td>\n",
       "      <td>yes</td>\n",
       "      <td>no</td>\n",
       "      <td>no</td>\n",
       "      <td>no</td>\n",
       "      <td>no</td>\n",
       "      <td>0</td>\n",
       "      <td>no</td>\n",
       "      <td>unfurnished</td>\n",
       "    </tr>\n",
       "    <tr>\n",
       "      <th>543</th>\n",
       "      <td>1750000</td>\n",
       "      <td>2910</td>\n",
       "      <td>3</td>\n",
       "      <td>1</td>\n",
       "      <td>1</td>\n",
       "      <td>no</td>\n",
       "      <td>no</td>\n",
       "      <td>no</td>\n",
       "      <td>no</td>\n",
       "      <td>no</td>\n",
       "      <td>0</td>\n",
       "      <td>no</td>\n",
       "      <td>furnished</td>\n",
       "    </tr>\n",
       "    <tr>\n",
       "      <th>544</th>\n",
       "      <td>1750000</td>\n",
       "      <td>3850</td>\n",
       "      <td>3</td>\n",
       "      <td>1</td>\n",
       "      <td>2</td>\n",
       "      <td>yes</td>\n",
       "      <td>no</td>\n",
       "      <td>no</td>\n",
       "      <td>no</td>\n",
       "      <td>no</td>\n",
       "      <td>0</td>\n",
       "      <td>no</td>\n",
       "      <td>unfurnished</td>\n",
       "    </tr>\n",
       "  </tbody>\n",
       "</table>\n",
       "<p>545 rows × 13 columns</p>\n",
       "</div>"
      ],
      "text/plain": [
       "        price  area  bedrooms  bathrooms  stories mainroad guestroom basement  \\\n",
       "0    13300000  7420         4          2        3      yes        no       no   \n",
       "1    12250000  8960         4          4        4      yes        no       no   \n",
       "2    12250000  9960         3          2        2      yes        no      yes   \n",
       "3    12215000  7500         4          2        2      yes        no      yes   \n",
       "4    11410000  7420         4          1        2      yes       yes      yes   \n",
       "..        ...   ...       ...        ...      ...      ...       ...      ...   \n",
       "540   1820000  3000         2          1        1      yes        no      yes   \n",
       "541   1767150  2400         3          1        1       no        no       no   \n",
       "542   1750000  3620         2          1        1      yes        no       no   \n",
       "543   1750000  2910         3          1        1       no        no       no   \n",
       "544   1750000  3850         3          1        2      yes        no       no   \n",
       "\n",
       "    hotwaterheating airconditioning  parking prefarea furnishingstatus  \n",
       "0                no             yes        2      yes        furnished  \n",
       "1                no             yes        3       no        furnished  \n",
       "2                no              no        2      yes   semi-furnished  \n",
       "3                no             yes        3      yes        furnished  \n",
       "4                no             yes        2       no        furnished  \n",
       "..              ...             ...      ...      ...              ...  \n",
       "540              no              no        2       no      unfurnished  \n",
       "541              no              no        0       no   semi-furnished  \n",
       "542              no              no        0       no      unfurnished  \n",
       "543              no              no        0       no        furnished  \n",
       "544              no              no        0       no      unfurnished  \n",
       "\n",
       "[545 rows x 13 columns]"
      ]
     },
     "execution_count": 6,
     "metadata": {},
     "output_type": "execute_result"
    }
   ],
   "source": [
    "## checking data\n",
    "df"
   ]
  },
  {
   "cell_type": "markdown",
   "id": "0bafa73a-7fb6-4289-b3ff-730a80b41dc5",
   "metadata": {},
   "source": [
    "## Understanding Data"
   ]
  },
  {
   "cell_type": "code",
   "execution_count": 7,
   "id": "60dd06aa-4a2f-4e26-9cf7-cd1f2d25d740",
   "metadata": {},
   "outputs": [
    {
     "data": {
      "text/plain": [
       "545"
      ]
     },
     "execution_count": 7,
     "metadata": {},
     "output_type": "execute_result"
    }
   ],
   "source": [
    "## total size of the datd\n",
    "len(df)"
   ]
  },
  {
   "cell_type": "code",
   "execution_count": 8,
   "id": "2f200801-5e04-4fde-acc1-1b75eec8e7ac",
   "metadata": {},
   "outputs": [
    {
     "data": {
      "text/plain": [
       "'stories'"
      ]
     },
     "execution_count": 8,
     "metadata": {},
     "output_type": "execute_result"
    }
   ],
   "source": [
    "## maximum of the data\n",
    "max(df)"
   ]
  },
  {
   "cell_type": "code",
   "execution_count": 9,
   "id": "0fd8c317-49fe-4d03-a416-9c4aa9b94775",
   "metadata": {},
   "outputs": [
    {
     "data": {
      "text/plain": [
       "'airconditioning'"
      ]
     },
     "execution_count": 9,
     "metadata": {},
     "output_type": "execute_result"
    }
   ],
   "source": [
    "## minimum of the data\n",
    "min(df)"
   ]
  },
  {
   "cell_type": "code",
   "execution_count": 10,
   "id": "fd08efd5-fbd1-4c42-ba20-8a87892266a9",
   "metadata": {},
   "outputs": [
    {
     "data": {
      "text/plain": [
       "price                  13300000\n",
       "area                      16200\n",
       "bedrooms                      6\n",
       "bathrooms                     4\n",
       "stories                       4\n",
       "mainroad                    yes\n",
       "guestroom                   yes\n",
       "basement                    yes\n",
       "hotwaterheating             yes\n",
       "airconditioning             yes\n",
       "parking                       3\n",
       "prefarea                    yes\n",
       "furnishingstatus    unfurnished\n",
       "dtype: object"
      ]
     },
     "execution_count": 10,
     "metadata": {},
     "output_type": "execute_result"
    }
   ],
   "source": [
    "## total max data\n",
    "df.max()"
   ]
  },
  {
   "cell_type": "code",
   "execution_count": 11,
   "id": "349dc51d-4d36-440e-b93e-fae7ee1a4aab",
   "metadata": {},
   "outputs": [
    {
     "data": {
      "text/plain": [
       "price                 1750000\n",
       "area                     1650\n",
       "bedrooms                    1\n",
       "bathrooms                   1\n",
       "stories                     1\n",
       "mainroad                   no\n",
       "guestroom                  no\n",
       "basement                   no\n",
       "hotwaterheating            no\n",
       "airconditioning            no\n",
       "parking                     0\n",
       "prefarea                   no\n",
       "furnishingstatus    furnished\n",
       "dtype: object"
      ]
     },
     "execution_count": 11,
     "metadata": {},
     "output_type": "execute_result"
    }
   ],
   "source": [
    "## total min data\n",
    "df.min()"
   ]
  },
  {
   "cell_type": "code",
   "execution_count": 12,
   "id": "3583b857-5903-47ba-9249-fddd8fe4d4f4",
   "metadata": {},
   "outputs": [
    {
     "data": {
      "text/plain": [
       "(545, 13)"
      ]
     },
     "execution_count": 12,
     "metadata": {},
     "output_type": "execute_result"
    }
   ],
   "source": [
    "## total rows and columns\n",
    "df.shape"
   ]
  },
  {
   "cell_type": "code",
   "execution_count": 13,
   "id": "3b8b8379-b333-4161-9ef3-9f52e1fff24b",
   "metadata": {},
   "outputs": [
    {
     "data": {
      "text/plain": [
       "7085"
      ]
     },
     "execution_count": 13,
     "metadata": {},
     "output_type": "execute_result"
    }
   ],
   "source": [
    "## total memory allocation\n",
    "df.size"
   ]
  },
  {
   "cell_type": "code",
   "execution_count": 14,
   "id": "9bf7f0d2-941a-4239-8e66-b55da4c58291",
   "metadata": {},
   "outputs": [
    {
     "name": "stdout",
     "output_type": "stream",
     "text": [
      "<class 'pandas.core.frame.DataFrame'>\n",
      "RangeIndex: 545 entries, 0 to 544\n",
      "Data columns (total 13 columns):\n",
      " #   Column            Non-Null Count  Dtype \n",
      "---  ------            --------------  ----- \n",
      " 0   price             545 non-null    int64 \n",
      " 1   area              545 non-null    int64 \n",
      " 2   bedrooms          545 non-null    int64 \n",
      " 3   bathrooms         545 non-null    int64 \n",
      " 4   stories           545 non-null    int64 \n",
      " 5   mainroad          545 non-null    object\n",
      " 6   guestroom         545 non-null    object\n",
      " 7   basement          545 non-null    object\n",
      " 8   hotwaterheating   545 non-null    object\n",
      " 9   airconditioning   545 non-null    object\n",
      " 10  parking           545 non-null    int64 \n",
      " 11  prefarea          545 non-null    object\n",
      " 12  furnishingstatus  545 non-null    object\n",
      "dtypes: int64(6), object(7)\n",
      "memory usage: 55.5+ KB\n"
     ]
    }
   ],
   "source": [
    "## knowing about the data\n",
    "df.info()"
   ]
  },
  {
   "cell_type": "code",
   "execution_count": 15,
   "id": "9cd0afb1-3c7b-465b-aa39-7b8ae3aeda88",
   "metadata": {},
   "outputs": [
    {
     "data": {
      "text/plain": [
       "price               0\n",
       "area                0\n",
       "bedrooms            0\n",
       "bathrooms           0\n",
       "stories             0\n",
       "mainroad            0\n",
       "guestroom           0\n",
       "basement            0\n",
       "hotwaterheating     0\n",
       "airconditioning     0\n",
       "parking             0\n",
       "prefarea            0\n",
       "furnishingstatus    0\n",
       "dtype: int64"
      ]
     },
     "execution_count": 15,
     "metadata": {},
     "output_type": "execute_result"
    }
   ],
   "source": [
    "## checking for missing values\n",
    "df.isnull().sum()"
   ]
  },
  {
   "cell_type": "code",
   "execution_count": 16,
   "id": "8cb9bb95-b636-4fda-87f5-ed976c91c382",
   "metadata": {},
   "outputs": [
    {
     "data": {
      "text/plain": [
       "0"
      ]
     },
     "execution_count": 16,
     "metadata": {},
     "output_type": "execute_result"
    }
   ],
   "source": [
    "## checking for duplicated values \n",
    "df.duplicated().sum()"
   ]
  },
  {
   "cell_type": "code",
   "execution_count": 17,
   "id": "e154a9cd-3404-4123-ba61-b5f9d76e1d98",
   "metadata": {},
   "outputs": [
    {
     "data": {
      "text/plain": [
       "price                int64\n",
       "area                 int64\n",
       "bedrooms             int64\n",
       "bathrooms            int64\n",
       "stories              int64\n",
       "mainroad            object\n",
       "guestroom           object\n",
       "basement            object\n",
       "hotwaterheating     object\n",
       "airconditioning     object\n",
       "parking              int64\n",
       "prefarea            object\n",
       "furnishingstatus    object\n",
       "dtype: object"
      ]
     },
     "execution_count": 17,
     "metadata": {},
     "output_type": "execute_result"
    }
   ],
   "source": [
    "## checking type on columns\n",
    "df.dtypes"
   ]
  },
  {
   "cell_type": "markdown",
   "id": "fe17633f-4977-4cb9-861c-710db19629ae",
   "metadata": {},
   "source": [
    "## Finding unique instances in each column"
   ]
  },
  {
   "cell_type": "code",
   "execution_count": 18,
   "id": "3c483742-6bd9-46cd-bdbd-eee1ecfbfd6a",
   "metadata": {},
   "outputs": [
    {
     "name": "stdout",
     "output_type": "stream",
     "text": [
      "[ 1750000  1767150  1820000  1855000  1890000  1960000  2100000  2135000\n",
      "  2233000  2240000  2275000  2310000  2345000  2380000  2408000  2450000\n",
      "  2485000  2520000  2590000  2604000  2653000  2660000  2695000  2730000\n",
      "  2800000  2835000  2852500  2870000  2940000  2961000  2975000  3003000\n",
      "  3010000  3045000  3080000  3087000  3115000  3118850  3129000  3143000\n",
      "  3150000  3220000  3234000  3255000  3290000  3325000  3332000  3353000\n",
      "  3360000  3395000  3423000  3430000  3465000  3493000  3500000  3535000\n",
      "  3570000  3605000  3633000  3640000  3675000  3703000  3710000  3745000\n",
      "  3773000  3780000  3815000  3836000  3850000  3885000  3920000  3990000\n",
      "  4007500  4025000  4060000  4095000  4098500  4123000  4130000  4165000\n",
      "  4193000  4200000  4235000  4270000  4277000  4305000  4319000  4340000\n",
      "  4375000  4382000  4403000  4410000  4445000  4473000  4480000  4515000\n",
      "  4543000  4550000  4585000  4613000  4620000  4655000  4690000  4753000\n",
      "  4760000  4767000  4795000  4830000  4865000  4893000  4900000  4907000\n",
      "  4935000  4956000  4970000  5005000  5033000  5040000  5075000  5110000\n",
      "  5145000  5215000  5229000  5243000  5250000  5285000  5320000  5383000\n",
      "  5390000  5425000  5460000  5495000  5523000  5530000  5565000  5600000\n",
      "  5652500  5740000  5775000  5803000  5810000  5866000  5873000  5880000\n",
      "  5943000  5950000  6020000  6083000  6090000  6107500  6125000  6160000\n",
      "  6195000  6230000  6265000  6293000  6300000  6405000  6419000  6440000\n",
      "  6475000  6510000  6580000  6615000  6629000  6650000  6685000  6720000\n",
      "  6755000  6790000  6860000  6895000  6930000  7000000  7035000  7070000\n",
      "  7140000  7210000  7245000  7343000  7350000  7420000  7455000  7490000\n",
      "  7525000  7560000  7700000  7840000  7875000  7910000  7962500  7980000\n",
      "  8043000  8080940  8120000  8190000  8295000  8400000  8463000  8540000\n",
      "  8575000  8645000  8680000  8750000  8855000  8890000  8960000  9100000\n",
      "  9240000  9310000  9681000  9800000  9870000 10150000 10850000 11410000\n",
      " 12215000 12250000 13300000]\n"
     ]
    }
   ],
   "source": [
    "print(np.unique(df['price']))"
   ]
  },
  {
   "cell_type": "code",
   "execution_count": 19,
   "id": "d254d7bc-89b2-4721-9512-ac292b190215",
   "metadata": {},
   "outputs": [
    {
     "name": "stdout",
     "output_type": "stream",
     "text": [
      "[ 1650  1700  1836  1905  1950  2000  2015  2135  2145  2160  2175  2176\n",
      "  2275  2325  2398  2400  2430  2475  2500  2520  2550  2610  2640  2650\n",
      "  2684  2700  2747  2787  2800  2817  2835  2850  2856  2870  2880  2910\n",
      "  2953  2970  2990  3000  3036  3040  3060  3069  3090  3100  3120  3150\n",
      "  3162  3180  3185  3210  3240  3264  3290  3300  3350  3360  3400  3410\n",
      "  3420  3450  3460  3480  3500  3510  3512  3520  3540  3570  3584  3600\n",
      "  3620  3630  3635  3640  3649  3650  3660  3680  3700  3720  3745  3750\n",
      "  3760  3780  3792  3800  3816  3840  3850  3880  3900  3930  3934  3960\n",
      "  3968  3970  3986  3990  4000  4032  4040  4046  4050  4075  4079  4080\n",
      "  4095  4100  4120  4130  4160  4200  4240  4260  4280  4300  4320  4340\n",
      "  4350  4352  4360  4370  4400  4410  4500  4510  4520  4560  4600  4632\n",
      "  4640  4646  4700  4750  4770  4775  4785  4800  4815  4820  4840  4880\n",
      "  4900  4920  4950  4960  4990  4992  4995  5000  5010  5020  5040  5076\n",
      "  5136  5150  5170  5200  5300  5320  5360  5400  5450  5495  5500  5600\n",
      "  5640  5680  5700  5720  5750  5800  5828  5830  5850  5880  5885  5900\n",
      "  5948  5960  5985  6000  6020  6040  6050  6060  6100  6210  6240  6254\n",
      "  6300  6321  6325  6350  6360  6400  6420  6440  6450  6480  6500  6525\n",
      "  6540  6550  6600  6615  6650  6660  6670  6710  6720  6750  6800  6825\n",
      "  6840  6862  6900  6930  7000  7020  7085  7152  7155  7160  7200  7231\n",
      "  7260  7320  7350  7410  7420  7424  7440  7475  7482  7500  7600  7680\n",
      "  7686  7700  7770  7800  7950  7980  8000  8050  8080  8100  8150  8250\n",
      "  8372  8400  8500  8520  8580  8800  8875  8880  8960  9000  9166  9500\n",
      "  9620  9667  9800  9860  9960 10240 10269 10360 10500 10700 11175 11410\n",
      " 11440 11460 12090 12900 12944 13200 15600 16200]\n"
     ]
    }
   ],
   "source": [
    "print(np.unique(df['area']))"
   ]
  },
  {
   "cell_type": "code",
   "execution_count": 20,
   "id": "2eae6db2-018d-4fcc-ab18-bd285e97b86c",
   "metadata": {},
   "outputs": [
    {
     "name": "stdout",
     "output_type": "stream",
     "text": [
      "[1 2 3 4 5 6]\n"
     ]
    }
   ],
   "source": [
    "print(np.unique(df['bedrooms']))"
   ]
  },
  {
   "cell_type": "code",
   "execution_count": 21,
   "id": "f9569bae-34da-47d7-89c2-c831d0ca08da",
   "metadata": {},
   "outputs": [
    {
     "name": "stdout",
     "output_type": "stream",
     "text": [
      "[1 2 3 4]\n"
     ]
    }
   ],
   "source": [
    "print(np.unique(df['bathrooms']))"
   ]
  },
  {
   "cell_type": "code",
   "execution_count": 22,
   "id": "c41e7ad9-0857-4902-909a-af1655b6287b",
   "metadata": {},
   "outputs": [
    {
     "name": "stdout",
     "output_type": "stream",
     "text": [
      "[1 2 3 4]\n"
     ]
    }
   ],
   "source": [
    "print(np.unique(df['stories']))"
   ]
  },
  {
   "cell_type": "code",
   "execution_count": 23,
   "id": "bd4bf181-2b02-4a21-b0ef-c49284b90a46",
   "metadata": {},
   "outputs": [
    {
     "name": "stdout",
     "output_type": "stream",
     "text": [
      "['no' 'yes']\n"
     ]
    }
   ],
   "source": [
    "print(np.unique(df['mainroad']))"
   ]
  },
  {
   "cell_type": "code",
   "execution_count": 24,
   "id": "b1015018-da09-4b4f-b955-b170ee1a8f20",
   "metadata": {},
   "outputs": [
    {
     "name": "stdout",
     "output_type": "stream",
     "text": [
      "['no' 'yes']\n"
     ]
    }
   ],
   "source": [
    "print(np.unique(df['guestroom']))"
   ]
  },
  {
   "cell_type": "code",
   "execution_count": 25,
   "id": "f18d5560-8682-45b7-b110-a5a27a174eb2",
   "metadata": {},
   "outputs": [
    {
     "name": "stdout",
     "output_type": "stream",
     "text": [
      "['no' 'yes']\n"
     ]
    }
   ],
   "source": [
    "print(np.unique(df['basement']))"
   ]
  },
  {
   "cell_type": "code",
   "execution_count": 26,
   "id": "f835a0ce-9c8b-4af0-90cd-8288faca7e7a",
   "metadata": {},
   "outputs": [
    {
     "name": "stdout",
     "output_type": "stream",
     "text": [
      "['no' 'yes']\n"
     ]
    }
   ],
   "source": [
    "print(np.unique(df['hotwaterheating']))"
   ]
  },
  {
   "cell_type": "code",
   "execution_count": 27,
   "id": "4f5b4e65-9dfb-403d-91a4-51b0f892dcc8",
   "metadata": {},
   "outputs": [
    {
     "name": "stdout",
     "output_type": "stream",
     "text": [
      "['no' 'yes']\n"
     ]
    }
   ],
   "source": [
    "print(np.unique(df['airconditioning']))"
   ]
  },
  {
   "cell_type": "code",
   "execution_count": 28,
   "id": "c828313e-9973-4e04-8e06-d3d5aba5c82b",
   "metadata": {},
   "outputs": [
    {
     "name": "stdout",
     "output_type": "stream",
     "text": [
      "[0 1 2 3]\n"
     ]
    }
   ],
   "source": [
    "print(np.unique(df['parking']))"
   ]
  },
  {
   "cell_type": "code",
   "execution_count": 29,
   "id": "4d92d305-0031-42e7-887c-31990be938d2",
   "metadata": {},
   "outputs": [
    {
     "name": "stdout",
     "output_type": "stream",
     "text": [
      "['no' 'yes']\n"
     ]
    }
   ],
   "source": [
    "print(np.unique(df['prefarea']))"
   ]
  },
  {
   "cell_type": "code",
   "execution_count": 30,
   "id": "f66132d7-0dfa-4987-96d4-88f2663a55b2",
   "metadata": {},
   "outputs": [
    {
     "name": "stdout",
     "output_type": "stream",
     "text": [
      "['furnished' 'semi-furnished' 'unfurnished']\n"
     ]
    }
   ],
   "source": [
    "print(np.unique(df['furnishingstatus']))"
   ]
  },
  {
   "cell_type": "markdown",
   "id": "0530faca-7fba-4aa3-95c8-fec8c84d0bde",
   "metadata": {},
   "source": [
    "## Checking each colums"
   ]
  },
  {
   "cell_type": "code",
   "execution_count": 31,
   "id": "3c27ea03-3dbe-4b36-bf26-264d386a3012",
   "metadata": {},
   "outputs": [
    {
     "data": {
      "text/plain": [
       "0      13300000\n",
       "1      12250000\n",
       "2      12250000\n",
       "3      12215000\n",
       "4      11410000\n",
       "         ...   \n",
       "540     1820000\n",
       "541     1767150\n",
       "542     1750000\n",
       "543     1750000\n",
       "544     1750000\n",
       "Name: price, Length: 545, dtype: int64"
      ]
     },
     "execution_count": 31,
     "metadata": {},
     "output_type": "execute_result"
    }
   ],
   "source": [
    "df['price']"
   ]
  },
  {
   "cell_type": "code",
   "execution_count": 32,
   "id": "20d3856f-a6b5-44f8-af7f-3842fc8bc5c3",
   "metadata": {},
   "outputs": [
    {
     "data": {
      "text/plain": [
       "0      7420\n",
       "1      8960\n",
       "2      9960\n",
       "3      7500\n",
       "4      7420\n",
       "       ... \n",
       "540    3000\n",
       "541    2400\n",
       "542    3620\n",
       "543    2910\n",
       "544    3850\n",
       "Name: area, Length: 545, dtype: int64"
      ]
     },
     "execution_count": 32,
     "metadata": {},
     "output_type": "execute_result"
    }
   ],
   "source": [
    "df['area']"
   ]
  },
  {
   "cell_type": "code",
   "execution_count": 33,
   "id": "284f0b0f-da29-46ed-9e8a-4a1e8d1020c4",
   "metadata": {},
   "outputs": [
    {
     "data": {
      "text/plain": [
       "0      4\n",
       "1      4\n",
       "2      3\n",
       "3      4\n",
       "4      4\n",
       "      ..\n",
       "540    2\n",
       "541    3\n",
       "542    2\n",
       "543    3\n",
       "544    3\n",
       "Name: bedrooms, Length: 545, dtype: int64"
      ]
     },
     "execution_count": 33,
     "metadata": {},
     "output_type": "execute_result"
    }
   ],
   "source": [
    "df['bedrooms']"
   ]
  },
  {
   "cell_type": "code",
   "execution_count": 34,
   "id": "23d667ee-7e33-4e7e-b2be-455b9f11d70c",
   "metadata": {},
   "outputs": [
    {
     "data": {
      "text/plain": [
       "0      2\n",
       "1      4\n",
       "2      2\n",
       "3      2\n",
       "4      1\n",
       "      ..\n",
       "540    1\n",
       "541    1\n",
       "542    1\n",
       "543    1\n",
       "544    1\n",
       "Name: bathrooms, Length: 545, dtype: int64"
      ]
     },
     "execution_count": 34,
     "metadata": {},
     "output_type": "execute_result"
    }
   ],
   "source": [
    "df['bathrooms']"
   ]
  },
  {
   "cell_type": "code",
   "execution_count": 35,
   "id": "c8d91315-c19e-4caf-b8f5-986335abb6b7",
   "metadata": {},
   "outputs": [
    {
     "data": {
      "text/plain": [
       "0      3\n",
       "1      4\n",
       "2      2\n",
       "3      2\n",
       "4      2\n",
       "      ..\n",
       "540    1\n",
       "541    1\n",
       "542    1\n",
       "543    1\n",
       "544    2\n",
       "Name: stories, Length: 545, dtype: int64"
      ]
     },
     "execution_count": 35,
     "metadata": {},
     "output_type": "execute_result"
    }
   ],
   "source": [
    "df['stories']"
   ]
  },
  {
   "cell_type": "code",
   "execution_count": 36,
   "id": "9a5f8e96-15e3-4386-81d1-6d9e0f577b97",
   "metadata": {},
   "outputs": [
    {
     "data": {
      "text/plain": [
       "0      yes\n",
       "1      yes\n",
       "2      yes\n",
       "3      yes\n",
       "4      yes\n",
       "      ... \n",
       "540    yes\n",
       "541     no\n",
       "542    yes\n",
       "543     no\n",
       "544    yes\n",
       "Name: mainroad, Length: 545, dtype: object"
      ]
     },
     "execution_count": 36,
     "metadata": {},
     "output_type": "execute_result"
    }
   ],
   "source": [
    "df['mainroad']"
   ]
  },
  {
   "cell_type": "code",
   "execution_count": 37,
   "id": "1c9412ed-b630-41c9-bc68-a00e760ab5dc",
   "metadata": {},
   "outputs": [
    {
     "data": {
      "text/plain": [
       "0       no\n",
       "1       no\n",
       "2       no\n",
       "3       no\n",
       "4      yes\n",
       "      ... \n",
       "540     no\n",
       "541     no\n",
       "542     no\n",
       "543     no\n",
       "544     no\n",
       "Name: guestroom, Length: 545, dtype: object"
      ]
     },
     "execution_count": 37,
     "metadata": {},
     "output_type": "execute_result"
    }
   ],
   "source": [
    "df['guestroom']"
   ]
  },
  {
   "cell_type": "code",
   "execution_count": 38,
   "id": "974bf0a2-b9d2-41fc-94c2-682f81dc4488",
   "metadata": {},
   "outputs": [
    {
     "data": {
      "text/plain": [
       "0       no\n",
       "1       no\n",
       "2      yes\n",
       "3      yes\n",
       "4      yes\n",
       "      ... \n",
       "540    yes\n",
       "541     no\n",
       "542     no\n",
       "543     no\n",
       "544     no\n",
       "Name: basement, Length: 545, dtype: object"
      ]
     },
     "execution_count": 38,
     "metadata": {},
     "output_type": "execute_result"
    }
   ],
   "source": [
    "df['basement']"
   ]
  },
  {
   "cell_type": "code",
   "execution_count": 39,
   "id": "c612bf1e-2323-4c09-ae26-6b06e102380c",
   "metadata": {},
   "outputs": [
    {
     "data": {
      "text/plain": [
       "0      no\n",
       "1      no\n",
       "2      no\n",
       "3      no\n",
       "4      no\n",
       "       ..\n",
       "540    no\n",
       "541    no\n",
       "542    no\n",
       "543    no\n",
       "544    no\n",
       "Name: hotwaterheating, Length: 545, dtype: object"
      ]
     },
     "execution_count": 39,
     "metadata": {},
     "output_type": "execute_result"
    }
   ],
   "source": [
    "df['hotwaterheating']"
   ]
  },
  {
   "cell_type": "code",
   "execution_count": 40,
   "id": "8f462f42-fab1-4f49-94c4-68244c558efa",
   "metadata": {},
   "outputs": [
    {
     "data": {
      "text/plain": [
       "0      yes\n",
       "1      yes\n",
       "2       no\n",
       "3      yes\n",
       "4      yes\n",
       "      ... \n",
       "540     no\n",
       "541     no\n",
       "542     no\n",
       "543     no\n",
       "544     no\n",
       "Name: airconditioning, Length: 545, dtype: object"
      ]
     },
     "execution_count": 40,
     "metadata": {},
     "output_type": "execute_result"
    }
   ],
   "source": [
    "df['airconditioning']"
   ]
  },
  {
   "cell_type": "code",
   "execution_count": 41,
   "id": "15011953-f36e-4546-ae9c-4a068603bd6f",
   "metadata": {},
   "outputs": [
    {
     "data": {
      "text/plain": [
       "0      2\n",
       "1      3\n",
       "2      2\n",
       "3      3\n",
       "4      2\n",
       "      ..\n",
       "540    2\n",
       "541    0\n",
       "542    0\n",
       "543    0\n",
       "544    0\n",
       "Name: parking, Length: 545, dtype: int64"
      ]
     },
     "execution_count": 41,
     "metadata": {},
     "output_type": "execute_result"
    }
   ],
   "source": [
    "df['parking']"
   ]
  },
  {
   "cell_type": "code",
   "execution_count": 42,
   "id": "05ab36c3-4a42-45e2-9ab1-bb38dd7425eb",
   "metadata": {},
   "outputs": [
    {
     "data": {
      "text/plain": [
       "0      yes\n",
       "1       no\n",
       "2      yes\n",
       "3      yes\n",
       "4       no\n",
       "      ... \n",
       "540     no\n",
       "541     no\n",
       "542     no\n",
       "543     no\n",
       "544     no\n",
       "Name: prefarea, Length: 545, dtype: object"
      ]
     },
     "execution_count": 42,
     "metadata": {},
     "output_type": "execute_result"
    }
   ],
   "source": [
    "df['prefarea']"
   ]
  },
  {
   "cell_type": "code",
   "execution_count": 43,
   "id": "07616971-f168-44fb-b21b-928aa9b2020b",
   "metadata": {},
   "outputs": [
    {
     "data": {
      "text/plain": [
       "0           furnished\n",
       "1           furnished\n",
       "2      semi-furnished\n",
       "3           furnished\n",
       "4           furnished\n",
       "            ...      \n",
       "540       unfurnished\n",
       "541    semi-furnished\n",
       "542       unfurnished\n",
       "543         furnished\n",
       "544       unfurnished\n",
       "Name: furnishingstatus, Length: 545, dtype: object"
      ]
     },
     "execution_count": 43,
     "metadata": {},
     "output_type": "execute_result"
    }
   ],
   "source": [
    "df['furnishingstatus']"
   ]
  },
  {
   "cell_type": "markdown",
   "id": "7437eed4-a3bc-4d02-9cfd-ccaa35f3d849",
   "metadata": {},
   "source": [
    "## Data preprocessing\n",
    "- Normalizing column names"
   ]
  },
  {
   "cell_type": "code",
   "execution_count": 44,
   "id": "e05d6869-e17a-449c-b660-6cb85c9cddda",
   "metadata": {},
   "outputs": [
    {
     "data": {
      "text/html": [
       "<div>\n",
       "<style scoped>\n",
       "    .dataframe tbody tr th:only-of-type {\n",
       "        vertical-align: middle;\n",
       "    }\n",
       "\n",
       "    .dataframe tbody tr th {\n",
       "        vertical-align: top;\n",
       "    }\n",
       "\n",
       "    .dataframe thead th {\n",
       "        text-align: right;\n",
       "    }\n",
       "</style>\n",
       "<table border=\"1\" class=\"dataframe\">\n",
       "  <thead>\n",
       "    <tr style=\"text-align: right;\">\n",
       "      <th></th>\n",
       "      <th>price</th>\n",
       "      <th>area</th>\n",
       "      <th>bedrooms</th>\n",
       "      <th>bathrooms</th>\n",
       "      <th>stories</th>\n",
       "      <th>parking</th>\n",
       "    </tr>\n",
       "  </thead>\n",
       "  <tbody>\n",
       "    <tr>\n",
       "      <th>count</th>\n",
       "      <td>545.0</td>\n",
       "      <td>545.0</td>\n",
       "      <td>545.0</td>\n",
       "      <td>545.0</td>\n",
       "      <td>545.0</td>\n",
       "      <td>545.0</td>\n",
       "    </tr>\n",
       "    <tr>\n",
       "      <th>mean</th>\n",
       "      <td>4766729.0</td>\n",
       "      <td>5151.0</td>\n",
       "      <td>3.0</td>\n",
       "      <td>1.0</td>\n",
       "      <td>2.0</td>\n",
       "      <td>1.0</td>\n",
       "    </tr>\n",
       "    <tr>\n",
       "      <th>std</th>\n",
       "      <td>1870440.0</td>\n",
       "      <td>2170.0</td>\n",
       "      <td>1.0</td>\n",
       "      <td>1.0</td>\n",
       "      <td>1.0</td>\n",
       "      <td>1.0</td>\n",
       "    </tr>\n",
       "    <tr>\n",
       "      <th>min</th>\n",
       "      <td>1750000.0</td>\n",
       "      <td>1650.0</td>\n",
       "      <td>1.0</td>\n",
       "      <td>1.0</td>\n",
       "      <td>1.0</td>\n",
       "      <td>0.0</td>\n",
       "    </tr>\n",
       "    <tr>\n",
       "      <th>25%</th>\n",
       "      <td>3430000.0</td>\n",
       "      <td>3600.0</td>\n",
       "      <td>2.0</td>\n",
       "      <td>1.0</td>\n",
       "      <td>1.0</td>\n",
       "      <td>0.0</td>\n",
       "    </tr>\n",
       "    <tr>\n",
       "      <th>50%</th>\n",
       "      <td>4340000.0</td>\n",
       "      <td>4600.0</td>\n",
       "      <td>3.0</td>\n",
       "      <td>1.0</td>\n",
       "      <td>2.0</td>\n",
       "      <td>0.0</td>\n",
       "    </tr>\n",
       "    <tr>\n",
       "      <th>75%</th>\n",
       "      <td>5740000.0</td>\n",
       "      <td>6360.0</td>\n",
       "      <td>3.0</td>\n",
       "      <td>2.0</td>\n",
       "      <td>2.0</td>\n",
       "      <td>1.0</td>\n",
       "    </tr>\n",
       "    <tr>\n",
       "      <th>max</th>\n",
       "      <td>13300000.0</td>\n",
       "      <td>16200.0</td>\n",
       "      <td>6.0</td>\n",
       "      <td>4.0</td>\n",
       "      <td>4.0</td>\n",
       "      <td>3.0</td>\n",
       "    </tr>\n",
       "  </tbody>\n",
       "</table>\n",
       "</div>"
      ],
      "text/plain": [
       "            price     area  bedrooms  bathrooms  stories  parking\n",
       "count       545.0    545.0     545.0      545.0    545.0    545.0\n",
       "mean    4766729.0   5151.0       3.0        1.0      2.0      1.0\n",
       "std     1870440.0   2170.0       1.0        1.0      1.0      1.0\n",
       "min     1750000.0   1650.0       1.0        1.0      1.0      0.0\n",
       "25%     3430000.0   3600.0       2.0        1.0      1.0      0.0\n",
       "50%     4340000.0   4600.0       3.0        1.0      2.0      0.0\n",
       "75%     5740000.0   6360.0       3.0        2.0      2.0      1.0\n",
       "max    13300000.0  16200.0       6.0        4.0      4.0      3.0"
      ]
     },
     "execution_count": 44,
     "metadata": {},
     "output_type": "execute_result"
    }
   ],
   "source": [
    "## Getting a brief statistical summary of the dataframe\n",
    "df.describe().round()"
   ]
  },
  {
   "cell_type": "code",
   "execution_count": 45,
   "id": "ab9c93bb-d21c-4631-bb04-c888950723db",
   "metadata": {},
   "outputs": [
    {
     "data": {
      "text/plain": [
       "Index(['price', 'area', 'bedrooms', 'bathrooms', 'stories', 'mainroad',\n",
       "       'guestroom', 'basement', 'hotwaterheating', 'airconditioning',\n",
       "       'parking', 'prefarea', 'furnishingstatus'],\n",
       "      dtype='object')"
      ]
     },
     "execution_count": 45,
     "metadata": {},
     "output_type": "execute_result"
    }
   ],
   "source": [
    "df. columns"
   ]
  },
  {
   "cell_type": "code",
   "execution_count": 46,
   "id": "c665b625-d55a-486a-864f-3e418c26a2e4",
   "metadata": {},
   "outputs": [],
   "source": [
    "df.rename(columns={\"price\": \"Price\", \"area\": \"Area\" , \"bedrooms\": \"Bed-rooms\", \"bathrooms\": \"Bath-rooms\" }, inplace=True)"
   ]
  },
  {
   "cell_type": "code",
   "execution_count": 47,
   "id": "d1fabaed-467b-4def-89b6-3c40dc7211c5",
   "metadata": {},
   "outputs": [],
   "source": [
    "df.rename(columns={\"stories\": \"Stories\", \"mainroad\": \"Main-road\" , \"guestroom\": \"Guest-room\", \"basement\": \"Basement\" }, inplace=True)"
   ]
  },
  {
   "cell_type": "code",
   "execution_count": 48,
   "id": "893d1d41-dc87-4d2a-aa26-98dbd97a5f3d",
   "metadata": {},
   "outputs": [],
   "source": [
    "df.rename(columns={\"hotwaterheating\": \"Hot-water-heating\", \"airconditioning\": \"Air-conditioning\"}, inplace=True)"
   ]
  },
  {
   "cell_type": "code",
   "execution_count": 49,
   "id": "da8eb773-9204-4985-b4d7-1cf454a73a80",
   "metadata": {},
   "outputs": [],
   "source": [
    "df.rename(columns={\"parking\": \"Parking\", \"prefarea\": \"Preffered-area\" , \"furnishingstatus\": \"Furnishing-status\" }, inplace=True)"
   ]
  },
  {
   "cell_type": "code",
   "execution_count": 50,
   "id": "e043e3a9-96d1-4f7c-9ac3-231682a28966",
   "metadata": {},
   "outputs": [
    {
     "data": {
      "text/plain": [
       "Index(['Price', 'Area', 'Bed-rooms', 'Bath-rooms', 'Stories', 'Main-road',\n",
       "       'Guest-room', 'Basement', 'Hot-water-heating', 'Air-conditioning',\n",
       "       'Parking', 'Preffered-area', 'Furnishing-status'],\n",
       "      dtype='object')"
      ]
     },
     "execution_count": 50,
     "metadata": {},
     "output_type": "execute_result"
    }
   ],
   "source": [
    "df. columns"
   ]
  },
  {
   "cell_type": "code",
   "execution_count": 54,
   "id": "5112c4e9-0f1d-4fdc-a05e-139739b1d655",
   "metadata": {},
   "outputs": [
    {
     "data": {
      "text/plain": [
       "Index(['Price', 'Area', 'Bed-rooms', 'Bath-rooms', 'Stories', 'Main-road',\n",
       "       'Guest-room', 'Basement', 'Hot-water-heating', 'Air-conditioning',\n",
       "       'Parking', 'Preffered-area', 'Furnishing-status'],\n",
       "      dtype='object')"
      ]
     },
     "execution_count": 54,
     "metadata": {},
     "output_type": "execute_result"
    }
   ],
   "source": [
    "df. columns"
   ]
  },
  {
   "cell_type": "code",
   "execution_count": null,
   "id": "b86929d6-847f-49b8-be95-6d561bdbfdbb",
   "metadata": {},
   "outputs": [],
   "source": []
  }
 ],
 "metadata": {
  "kernelspec": {
   "display_name": "Python 3 (ipykernel)",
   "language": "python",
   "name": "python3"
  },
  "language_info": {
   "codemirror_mode": {
    "name": "ipython",
    "version": 3
   },
   "file_extension": ".py",
   "mimetype": "text/x-python",
   "name": "python",
   "nbconvert_exporter": "python",
   "pygments_lexer": "ipython3",
   "version": "3.11.8"
  }
 },
 "nbformat": 4,
 "nbformat_minor": 5
}
